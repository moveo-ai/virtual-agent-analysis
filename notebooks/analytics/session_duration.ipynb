{
 "cells": [
  {
   "cell_type": "markdown",
   "id": "23c538dc-a51f-474d-b448-10df539e1c08",
   "metadata": {},
   "source": [
    "# This Notebook uses the Analytics API to get the average duration of all, (non) contained and (non) covered Brain sessions.\n",
    "\n",
    "## Before you Begin\n",
    "Make sure you have access to your Moveo Analytics API Key and Account ID\n",
    "\n",
    "## More Information\n",
    "For more information about the Analytics API, please visit: \n",
    "* https://docs.moveo.ai/docs/analytics/api_overview\n",
    "* https://docs.moveo.ai/docs/analytics/brain_session_duration"
   ]
  },
  {
   "cell_type": "code",
   "execution_count": null,
   "id": "07acb732-7309-4825-b226-cf9e7bcdf42a",
   "metadata": {},
   "outputs": [],
   "source": [
    "from utils.common import (\n",
    "    execute_query,\n",
    "    initialize_graphql_clinet,\n",
    "    serialize_list_variable,\n",
    ")"
   ]
  },
  {
   "cell_type": "code",
   "execution_count": null,
   "id": "5e54ef33-8e2e-4734-a9d6-e27da90d2a82",
   "metadata": {},
   "outputs": [],
   "source": [
    "# substitute your Analytics API Key\n",
    "GRAPHQL_API_KEY = \"<API_KEY>\"\n",
    "# substitute your Account ID. You can find the account ID, by going to the settings of your account, then click on \"information\".\n",
    "ACCOUNT_ID = \"<ACCOUNT_ID>\""
   ]
  },
  {
   "cell_type": "code",
   "execution_count": null,
   "id": "40181c4d-8511-4070-9731-d1b63bd0bd25",
   "metadata": {},
   "outputs": [],
   "source": []
  },
  {
   "cell_type": "code",
   "execution_count": null,
   "id": "973c7a16-32d8-416e-9ac5-211d31775faf",
   "metadata": {},
   "outputs": [],
   "source": [
    "client = initialize_graphql_clinet(ACCOUNT_ID, GRAPHQL_API_KEY)"
   ]
  },
  {
   "cell_type": "code",
   "execution_count": null,
   "id": "717830c1-02e7-4fa2-b92a-a231c0e046cc",
   "metadata": {},
   "outputs": [],
   "source": [
    "# more information: https://docs.moveo.ai/docs/analytics/brain_session_duration\n",
    "query = \"\"\"\n",
    "\n",
    "query BrainSessionDuration(\n",
    "  $accountId: uuid\n",
    "  $deskIds: _uuid\n",
    "  $brainIds: _uuid\n",
    "  $channels: _text\n",
    "  $startDate: timestamp\n",
    "  $endDate: timestamp\n",
    "  $tags: _text\n",
    "  $isTest: Boolean\n",
    "  $limit: Int\n",
    ") {\n",
    "  rows: brain_session_duration(\n",
    "    limit: $limit\n",
    "    args: {\n",
    "      start_time: $startDate\n",
    "      end_time: $endDate\n",
    "      account_id: $accountId\n",
    "      brain_parent_ids: $brainIds\n",
    "      desk_ids: $deskIds\n",
    "      channels: $channels\n",
    "      tags: $tags\n",
    "      is_test: $isTest\n",
    "    }\n",
    "  ) {\n",
    "    average_duration\n",
    "    average_duration_contained\n",
    "    average_duration_non_contained\n",
    "    average_duration_covered\n",
    "    average_duration_non_covered\n",
    "  }\n",
    "}\n",
    "\"\"\""
   ]
  },
  {
   "cell_type": "code",
   "execution_count": null,
   "id": "bf3a40da-771c-4801-b855-b5d12cadbc34",
   "metadata": {},
   "outputs": [],
   "source": [
    "# Query variables (substitute the desired dates)\n",
    "account_id = ACCOUNT_ID\n",
    "start_date = \"2024-02-20\"\n",
    "end_date = \"2024-02-25\"\n",
    "variables = {\"accountId\": account_id, \"startDate\": start_date, \"endDate\": end_date}"
   ]
  },
  {
   "cell_type": "markdown",
   "id": "5bea5dfd-f5c7-4dee-a981-21baa881ba6d",
   "metadata": {},
   "source": [
    "### For all brains"
   ]
  },
  {
   "cell_type": "code",
   "execution_count": null,
   "id": "9eecb71c-1f4c-48ae-abdf-705d01a168cc",
   "metadata": {},
   "outputs": [],
   "source": [
    "# execute_query receives as arguments the GraphQL client, query and corresponding variables (dictionary)\n",
    "session_duration_all_brains = execute_query(client, query, variables)"
   ]
  },
  {
   "cell_type": "code",
   "execution_count": null,
   "id": "7848e72e-fb0a-4e72-9a8c-9bed3e40394b",
   "metadata": {},
   "outputs": [],
   "source": [
    "print(session_duration_all_brains)"
   ]
  },
  {
   "cell_type": "markdown",
   "id": "b88b88c9-cb28-41a4-8313-169b918e72d7",
   "metadata": {},
   "source": [
    "### For specific Brains"
   ]
  },
  {
   "cell_type": "code",
   "execution_count": null,
   "id": "69629723-1b4f-4f40-8372-59ba47c27c1c",
   "metadata": {},
   "outputs": [],
   "source": [
    "# substitute the Brain Ids for which you want to get the average session duration\n",
    "brain_ids = [\n",
    "    \"756772cb-d958-40c7-9b4c-0c1378d53989\",\n",
    "    \"c2fe9800-781f-4b6f-b02e-1c3453dc77db\",\n",
    "]\n",
    "variables[\"brainIds\"] = serialize_list_variable(brain_ids)"
   ]
  },
  {
   "cell_type": "code",
   "execution_count": null,
   "id": "096fbdb4-941a-4933-966c-080560ac59ea",
   "metadata": {},
   "outputs": [],
   "source": [
    "session_duration_specific_brains = execute_query(client, query, variables)"
   ]
  },
  {
   "cell_type": "code",
   "execution_count": null,
   "id": "8b404298-e2bb-4f0f-9aa1-0bbc24dd7caf",
   "metadata": {},
   "outputs": [],
   "source": [
    "session_duration_specific_brains"
   ]
  },
  {
   "cell_type": "code",
   "execution_count": null,
   "id": "110dea71-8cb2-4b17-83a5-a2fdb505163f",
   "metadata": {},
   "outputs": [],
   "source": []
  },
  {
   "cell_type": "code",
   "execution_count": null,
   "id": "a84638a8-e2da-4d17-899e-3084dadbf9d5",
   "metadata": {},
   "outputs": [],
   "source": []
  }
 ],
 "metadata": {
  "kernelspec": {
   "display_name": "Python 3 (ipykernel)",
   "language": "python",
   "name": "python3"
  },
  "language_info": {
   "codemirror_mode": {
    "name": "ipython",
    "version": 3
   },
   "file_extension": ".py",
   "mimetype": "text/x-python",
   "name": "python",
   "nbconvert_exporter": "python",
   "pygments_lexer": "ipython3",
   "version": "3.10.12"
  }
 },
 "nbformat": 4,
 "nbformat_minor": 5
}
