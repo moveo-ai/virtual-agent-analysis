{
 "cells": [
  {
   "cell_type": "markdown",
   "id": "23c538dc-a51f-474d-b448-10df539e1c08",
   "metadata": {},
   "source": [
    "# This Notebook uses the Analytics API to get the content for a specified Session\n",
    "\n",
    "## Before you Begin\n",
    "Make sure you have access to your Moveo Analytics API Key and Account ID\n",
    "\n",
    "## More Information\n",
    "For more information about the Analytics API, please visit: \n",
    "* https://docs.moveo.ai/docs/analytics/api_overview\n",
    "* https://docs.moveo.ai/docs/analytics/log_sessions_content"
   ]
  },
  {
   "cell_type": "code",
   "execution_count": 1,
   "id": "07acb732-7309-4825-b226-cf9e7bcdf42a",
   "metadata": {},
   "outputs": [],
   "source": [
    "from utils.common import execute_query, initialize_graphql_clinet"
   ]
  },
  {
   "cell_type": "code",
   "execution_count": 31,
   "id": "5e54ef33-8e2e-4734-a9d6-e27da90d2a82",
   "metadata": {},
   "outputs": [],
   "source": [
    "# substitute your Analytics API Key\n",
    "GRAPHQL_API_KEY = \"<API_KEY>\"\n",
    "# substitute your Account ID. You can find the account ID, by going to the settings of your account, then click on \"information\".\n",
    "ACCOUNT_ID = \"<ACCOUNT_ID>\""
   ]
  },
  {
   "cell_type": "code",
   "execution_count": 3,
   "id": "40181c4d-8511-4070-9731-d1b63bd0bd25",
   "metadata": {},
   "outputs": [],
   "source": []
  },
  {
   "cell_type": "code",
   "execution_count": 4,
   "id": "973c7a16-32d8-416e-9ac5-211d31775faf",
   "metadata": {},
   "outputs": [],
   "source": [
    "client = initialize_graphql_clinet(ACCOUNT_ID, GRAPHQL_API_KEY)"
   ]
  },
  {
   "cell_type": "code",
   "execution_count": 32,
   "id": "717830c1-02e7-4fa2-b92a-a231c0e046cc",
   "metadata": {},
   "outputs": [],
   "source": [
    "# more information: https://docs.moveo.ai/docs/analytics/log_sessions_content\n",
    "query = \"\"\"\n",
    "            query SessionContentV2($sessionId: String) {\n",
    "                rows: log_session_content_v2(args: { session_id: $sessionId }) {\n",
    "                    messages\n",
    "                    brain_id\n",
    "                    brain_parent_id\n",
    "                    avg_confidence\n",
    "                    brain_version\n",
    "                    channel\n",
    "                    channel_user_id\n",
    "                    desk_id\n",
    "                    end_time\n",
    "                    external_user_id\n",
    "                    integration_id\n",
    "                    is_contained\n",
    "                    is_covered\n",
    "                    is_test\n",
    "                    min_confidence\n",
    "                    participated_agents\n",
    "                    rating\n",
    "                    session_id\n",
    "                    start_time\n",
    "                    tags\n",
    "                    total_user_messages\n",
    "                    user_id\n",
    "                    user_name\n",
    "                }\n",
    "            }\n",
    "        \"\"\""
   ]
  },
  {
   "cell_type": "code",
   "execution_count": 14,
   "id": "9eecb71c-1f4c-48ae-abdf-705d01a168cc",
   "metadata": {},
   "outputs": [],
   "source": [
    "# Moveo session_id that uniquely identifies a conversation\n",
    "session_id = \"<SESSION_ID>\"\n",
    "# execute_query receives as arguments the GraphQL client, query and corresponding variables (dictionary)\n",
    "session_content = execute_query(client, query, {\"sessionId\": session_id})"
   ]
  },
  {
   "cell_type": "code",
   "execution_count": 29,
   "id": "69629723-1b4f-4f40-8372-59ba47c27c1c",
   "metadata": {},
   "outputs": [],
   "source": [
    "# extract the document ids found in the session\n",
    "docs_found = set()\n",
    "for message in session_content[0][\"messages\"]:\n",
    "    sources = message.get(\"collection_sources\") or []\n",
    "    docs_found = docs_found.union(\n",
    "        set([source[\"document_id\"] for source in sources if \"document_id\" in source])\n",
    "    )"
   ]
  },
  {
   "cell_type": "code",
   "execution_count": 30,
   "id": "096fbdb4-941a-4933-966c-080560ac59ea",
   "metadata": {},
   "outputs": [
    {
     "name": "stdout",
     "output_type": "stream",
     "text": [
      "{'ffa3cd72-fb70-4b8c-bc5c-cae1ac1b17d1', '3422c46d-ae18-4151-b41f-249b42340701', 'c74634b9-cbd9-4fd3-bd61-456a05d4ab61', '89621c0a-4bb0-4d6b-a7ae-6c14bac4f313', 'e5e15c01-6c3a-4d7d-93a7-766fc8860535', '02c277d3-bc9c-427c-89d5-2d0270b322cc'}\n"
     ]
    }
   ],
   "source": [
    "print(docs_found)"
   ]
  },
  {
   "cell_type": "code",
   "execution_count": null,
   "id": "8b404298-e2bb-4f0f-9aa1-0bbc24dd7caf",
   "metadata": {},
   "outputs": [],
   "source": []
  }
 ],
 "metadata": {
  "kernelspec": {
   "display_name": "Python 3 (ipykernel)",
   "language": "python",
   "name": "python3"
  },
  "language_info": {
   "codemirror_mode": {
    "name": "ipython",
    "version": 3
   },
   "file_extension": ".py",
   "mimetype": "text/x-python",
   "name": "python",
   "nbconvert_exporter": "python",
   "pygments_lexer": "ipython3",
   "version": "3.10.12"
  }
 },
 "nbformat": 4,
 "nbformat_minor": 5
}
