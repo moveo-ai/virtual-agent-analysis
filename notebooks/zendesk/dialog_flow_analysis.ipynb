{
 "cells": [
  {
   "cell_type": "markdown",
   "id": "dd955526-6d38-4a63-9f12-e9f36024c6d1",
   "metadata": {},
   "source": [
    "# Streamlined Analysis and Imports\n",
    "\n",
    "If you want to quickly run the analysis for a CSV file containing Zendesk Tickets handled by the VA, specify the file name below and press the ▶▶ button (Restart kernel and run all cells)\n"
   ]
  },
  {
   "cell_type": "code",
   "execution_count": null,
   "id": "f58d8392-33e1-46b2-b818-917b9fd11954",
   "metadata": {
    "editable": true,
    "slideshow": {
     "slide_type": ""
    },
    "tags": []
   },
   "outputs": [],
   "source": [
    "import os\n",
    "\n",
    "from utils.dialog_flow_analysis.common import (\n",
    "    DETRACTORS_UPPER_LIMIT,\n",
    "    PROMOTERS_LOWER_LIMIT,\n",
    "    RATING_MAX,\n",
    "    RATING_MIN,\n",
    "    analyze_flows,\n",
    "    extract_flows_from_session_id,\n",
    ")\n",
    "from utils.dialog_flow_analysis.zendesk import match_zendesk_id_to_session_id\n",
    "from utils.logger import logger\n",
    "\n",
    "%load_ext autoreload\n",
    "%autoreload 2\n",
    "\n",
    "# Change the values below\n",
    "CSV_FNAME = \"acc_issues_GR&CY_virtual_assistant.csv\"\n",
    "\n",
    "sessions_csv_fname = f\"{os.path.splitext(CSV_FNAME)[0]}_session_id.csv\"\n",
    "sessions_content_csv_fname = f\"{os.path.splitext(CSV_FNAME)[0]}_content.csv\""
   ]
  },
  {
   "cell_type": "markdown",
   "id": "0e83a5e2-5f33-409c-94c4-1c90b4195325",
   "metadata": {},
   "source": [
    "# 1. Configuration and Setup\n"
   ]
  },
  {
   "cell_type": "markdown",
   "id": "0b9251cf-e71b-4b13-a52a-3cf5cc5770f6",
   "metadata": {},
   "source": [
    "## Set your credentials and configuration in the .env file\n",
    "\n",
    "If this is your first time using this notebook, create a `.env` file in the main directory. Then, copy the contents of `.env.example` into `.env` and provide your credentials there.\n",
    "\n",
    "Input your Moveo and Zendesk credentials necessary for retrieving the data.\n",
    "\n",
    "In the `Data visualization config` you can change the scale of the **rating** for your usecase. Also you can define `Detractors`, `Neutrals` and `Promoters`. Default is:\n",
    "\n",
    "- Rating scale of 0-10\n",
    "- Detractors 0-3\n",
    "- Neutrals 4-6\n",
    "- Promoters 7-10\n"
   ]
  },
  {
   "cell_type": "markdown",
   "id": "ab02112d-10f8-4338-84af-296ca28485a5",
   "metadata": {},
   "source": [
    "## Confirm that the rating configuration is correct\n"
   ]
  },
  {
   "cell_type": "code",
   "execution_count": null,
   "id": "815d04a5-1ab3-4cfc-8cb7-8044769a0052",
   "metadata": {},
   "outputs": [],
   "source": [
    "logger.info(f\"Working with a rating scale of {RATING_MIN} to {RATING_MAX}\")\n",
    "logger.info(\n",
    "    \"Detractors are users who provide ratings from \"\n",
    "    f\"{RATING_MIN} to {DETRACTORS_UPPER_LIMIT}\"\n",
    ")\n",
    "logger.info(\n",
    "    \"Neutrals are users who provide ratings from \"\n",
    "    f\"{DETRACTORS_UPPER_LIMIT + 1} to {PROMOTERS_LOWER_LIMIT - 1}\"\n",
    ")\n",
    "logger.info(\n",
    "    \"Promoters are users who provide ratings from \"\n",
    "    f\"{PROMOTERS_LOWER_LIMIT} to {RATING_MAX}\"\n",
    ")"
   ]
  },
  {
   "cell_type": "markdown",
   "id": "8c8d3304-3c12-4b4e-9d9a-98603e864eb2",
   "metadata": {},
   "source": [
    "# 2. Get Moveo sessions from Zendesk conversations\n"
   ]
  },
  {
   "cell_type": "markdown",
   "id": "c0b495cc-e261-4006-a06c-249a9630e11d",
   "metadata": {},
   "source": [
    "## Function Overview: **match_zendesk_id_to_session_id**\n",
    "\n",
    "To get the sessions content from Moveo analytics we will have to retrieve the session_ids from the Zendesk conversations.\n",
    "\n",
    "We will do this by getting the **tags** starting with `moveo_session_id_` for each conversation through the Zendesk API.\n",
    "\n",
    "For the analysis we will _need the user's rating_ for each ticket (Question1 column)\n",
    "\n",
    "Combining the above, you will have to add a CSV file in the `/data` directory that contains at least these 2 columns for every ticket(the order does not matter):\n",
    "\n",
    "| ChatEvaluationTicketID | Question1 |\n",
    "| ---------------------- | --------- |\n",
    "| ticket_id_123          | 10        |\n",
    "| ...                    | ...       |\n",
    "\n",
    "### Parameters\n",
    "\n",
    "This function has two parameters:\n",
    "\n",
    "1. the **input** CSV file that contains the Zendesk ticket_ids (Default value: `csv_fname` defined at the top)\n",
    "2. the **output** CSV file that will include the Moveo session_ids (Default value: `sessions_csv_fname` defined at the top)\n",
    "\n",
    "### Output\n",
    "\n",
    "The output will be a CSV file with the following format:\n",
    "| ChatEvaluationTicketID | Question1 | SessionID |\n",
    "| ---------------------- | --------- | -------------- |\n",
    "| ticket_id_123 | 10 | session_id_123 |\n",
    "\n",
    "**Note 1**: If you wish to execute this function with file names other than those initially defined, simply modify `csv_fname` and `sessions_csv_fname` before executing it. (e.g., `match_zendesk_id_to_session_id(\"account_issues_br.csv\", \"account_issues_br_session_id.csv\")`)\n",
    "\n",
    "**Note 2**: If the output file already exists, you will be prompted to confirm whether you want to override it. Please respond with either y (yes) or n (no).\n"
   ]
  },
  {
   "cell_type": "markdown",
   "id": "9461cd6d-2ee6-43bd-84d1-5b7c7964ea81",
   "metadata": {},
   "source": [
    "## Call the function and retrieve session_ids\n"
   ]
  },
  {
   "cell_type": "code",
   "execution_count": null,
   "id": "78eba795-9dce-49f2-9fa3-aa88d729a9d1",
   "metadata": {},
   "outputs": [],
   "source": [
    "match_zendesk_id_to_session_id(CSV_FNAME, sessions_csv_fname)"
   ]
  },
  {
   "cell_type": "markdown",
   "id": "f240573c-e84d-43c5-9e20-3544551032fd",
   "metadata": {},
   "source": [
    "# 3. Fetch session data from Moveo Analytics\n"
   ]
  },
  {
   "cell_type": "markdown",
   "id": "e0741af7-3891-4356-8dbf-172412c77d65",
   "metadata": {},
   "source": [
    "## Function Overview: **extract_flows_from_session_id**\n",
    "\n",
    "This function retrieves the content of each session from Moveo Analytics API.\n",
    "\n",
    "### Parameters\n",
    "\n",
    "This function requires two parameters:\n",
    "\n",
    "1. The **input** CSV file containing the SessionIDs (outputed by the previous function). (Default value: `sessions_csv_fname` defined at the top)\n",
    "2. The **output** CSV file including the SessionContent. (Default value: `sessions_content_csv_fname` defined at the top)\n",
    "\n",
    "### Output\n",
    "\n",
    "The output CSV file will have the following format:\n",
    "\n",
    "| ChatEvaluationTicketID | SessionID      | SessionContent                                 |\n",
    "| ---------------------- | -------------- | ---------------------------------------------- |\n",
    "| ticket_id_123          | session_id_123 | This will be the entire content of the session |\n",
    "\n",
    "**Note 1**: If you wish to execute this function with file names other than those initially defined, simply modify `sessions_csv_fname` and `sessions_content_csv_fname` before executing it. (e.g., `extract_flows_from_session_id(\"account_issues_br_session_id.csv\", \"account_issues_br_content.csv.csv\")`)\n",
    "\n",
    "**Note 2**: If the output file already exists, you will be prompted to confirm whether you want to override it. Please respond with either y (yes) or n (no).\n"
   ]
  },
  {
   "cell_type": "markdown",
   "id": "dd0b0740-d003-46fb-9530-d34082ab4f5c",
   "metadata": {},
   "source": [
    "## Call the function to get the content\n"
   ]
  },
  {
   "cell_type": "code",
   "execution_count": null,
   "id": "bb1e45ad-4103-4d7c-a331-8a38f553bcca",
   "metadata": {},
   "outputs": [],
   "source": [
    "extract_flows_from_session_id(sessions_csv_fname, sessions_content_csv_fname)"
   ]
  },
  {
   "cell_type": "markdown",
   "id": "d0d733e1-bf71-4e09-b3b6-a7a217b338c6",
   "metadata": {},
   "source": [
    "# 4. Generate the charts\n"
   ]
  },
  {
   "cell_type": "markdown",
   "id": "e0e02f4d-ab34-4025-ba0c-0e7a322253e3",
   "metadata": {},
   "source": [
    "## Function Overview: **analyze_flows**\n",
    "\n",
    "This function utilizes the SessionContent to generate insights aimed at enhancing the brain's performance.\n",
    "\n",
    "### Parameters\n",
    "\n",
    "This function requires one parameter: an input CSV file containing the `SessionContent` outputted by the preceding function. (Default value: `sessions_content_csv_fname` defined at the top)\n",
    "\n",
    "### Output\n",
    "\n",
    "1. **Sankey Diagrams**: Three Sankey diagrams portraying the Journey distribution, one for each customer group. Rectangles represent dialog nodes, and columns represent dialog turns initiated by customer inputs. These diagrams are interactive, allowing you to rearrange nodes by dragging them.\n",
    "2. **Rating Frequency Histogram**: A histogram that visualizes the distribution of rating frequencies across all rating values.\n",
    "3. **Containment Percentage Pie Charts**: Three pie charts that illustrate the containment percentage for each customer group.\n",
    "4. **Coverage Percentage Pie Charts**: Three pie charts that display the coverage percentage for each customer group.\n",
    "\n",
    "❗ **_The diagrams above will also be generated as html files within the `/data/{fname}_plots` directory. Open them in a browser to view in more detail._** ❗\n",
    "\n",
    "### Returns\n",
    "\n",
    "The dataframe. You can use it to get more info like the **mean** or **median** and conduct further analysis.\n",
    "\n",
    "**Note 1**: All generated diagrams are interactive, enabling you to access counts and additional details simply by **hovering over them**.\n",
    "\n",
    "**Note 2**: If you wish to execute this function for a file other than the one initially defined, simply modify `sessions_content_csv_fname` before executing it. (e.g., `analyze_flows(\"account_issues_br_content.csv.csv\")`)\n"
   ]
  },
  {
   "cell_type": "markdown",
   "id": "4624bba4-84f5-46b0-8e0e-392105a1bba6",
   "metadata": {},
   "source": [
    "## Run the analysis\n"
   ]
  },
  {
   "cell_type": "code",
   "execution_count": null,
   "id": "cb773594-f00b-46b6-aa3b-89a08eb253fc",
   "metadata": {},
   "outputs": [],
   "source": [
    "# Adjust the threshold for the minimum number of transitions (dialog turns) to\n",
    "# display in the Sankey diagrams.\n",
    "# Increase with larger datasets and decrease with smaller ones.\n",
    "MIN_TRANSITIONS_DISPLAY_THRESHOLD = 3"
   ]
  },
  {
   "cell_type": "code",
   "execution_count": null,
   "id": "bd450581-943f-4b9f-8268-52030ae88dab",
   "metadata": {
    "tags": []
   },
   "outputs": [],
   "source": [
    "df = analyze_flows(sessions_content_csv_fname, MIN_TRANSITIONS_DISPLAY_THRESHOLD)"
   ]
  },
  {
   "cell_type": "markdown",
   "id": "d5d6d25e-1e88-487e-baf1-67074b2db9c9",
   "metadata": {
    "editable": true,
    "slideshow": {
     "slide_type": ""
    },
    "tags": []
   },
   "source": [
    "## Utilize the dataframe for further analysis according to your preferences.\n"
   ]
  },
  {
   "cell_type": "code",
   "execution_count": null,
   "id": "d90e27ab-a785-4951-8e82-29ad21831d4b",
   "metadata": {},
   "outputs": [],
   "source": [
    "df[\"Question1\"].skew()"
   ]
  },
  {
   "cell_type": "code",
   "execution_count": null,
   "id": "4732b877-14a8-41d7-9874-82a87e291614",
   "metadata": {},
   "outputs": [],
   "source": [
    "df[\"Question1\"].mean()"
   ]
  },
  {
   "cell_type": "code",
   "execution_count": null,
   "id": "46919764-2386-42b7-8d21-6507bc970b48",
   "metadata": {},
   "outputs": [],
   "source": [
    "df[\"Question1\"].median()"
   ]
  }
 ],
 "metadata": {
  "kernelspec": {
   "display_name": "Python 3 (ipykernel)",
   "language": "python",
   "name": "python3"
  },
  "language_info": {
   "codemirror_mode": {
    "name": "ipython",
    "version": 3
   },
   "file_extension": ".py",
   "mimetype": "text/x-python",
   "name": "python",
   "nbconvert_exporter": "python",
   "pygments_lexer": "ipython3",
   "version": "3.10.12"
  }
 },
 "nbformat": 4,
 "nbformat_minor": 5
}
