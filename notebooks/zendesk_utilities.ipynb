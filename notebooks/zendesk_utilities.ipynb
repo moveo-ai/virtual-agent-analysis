{
 "cells": [
  {
   "cell_type": "markdown",
   "metadata": {},
   "source": [
    "# 1. CSV Ticket Splitter: Agent vs. Brain\n"
   ]
  },
  {
   "cell_type": "markdown",
   "metadata": {},
   "source": [
    "This section focuses on processing CSV files containing tickets handled by both Agents and the VA. The format of these files typically resembles:\n",
    "\n",
    "| ChatEvaluationTicketID | ... | AgentName  | ... |\n",
    "| ---------------------- | --- | ---------- | --- |\n",
    "| ticket_id_123          | ... | Agent Name |\n",
    "| ticket_id 213          | ... | Brain Name |\n",
    "| ...                    | ... | ...        |\n",
    "\n",
    "Before proceeding further with the analysis, we need to split these records into two distinct CSV files: one containing Agent-handled tickets and the other encompassing Virtual Assistant-handled ones.\n"
   ]
  },
  {
   "cell_type": "markdown",
   "metadata": {},
   "source": [
    "## Import the utility\n"
   ]
  },
  {
   "cell_type": "code",
   "execution_count": null,
   "metadata": {},
   "outputs": [],
   "source": [
    "from utils.dialog_flow_analysis.zendesk import split_agents_and_brain_tickets\n",
    "\n",
    "%load_ext autoreload\n",
    "%autoreload 2"
   ]
  },
  {
   "cell_type": "markdown",
   "metadata": {},
   "source": [
    "## Function Overview: **split_agents_and_brain_tickets**\n"
   ]
  },
  {
   "cell_type": "markdown",
   "metadata": {},
   "source": [
    "### Parameters\n",
    "\n",
    "This function has two parameters:\n",
    "\n",
    "1. The `CSV file name` to split. (e.g \"Flows analysis - Agents Acc Issues BR.csv\")\n",
    "2. The `Brain name` as it appears in the AgentName column. (e.g \"BR Virtual Assistant\")\n",
    "\n",
    "### Output\n",
    "\n",
    "The output will be three new files:\n",
    "\n",
    "1. `{CSV file name}_agents.csv`: Contains tickets handled exclusively by agents.\n",
    "2. `{CSV file name}_virtual_assistant.csv`: Encompasses tickets managed by the specified virtual assistant (Brain).\n",
    "3. `{CSV file name}_no_agent_name.csv`: Consists of tickets lacking an assigned agent.\n",
    "\n",
    "**Note**: If any of the output files already exist, you will be prompted to confirm whether you want to override them. Please respond with either y (yes) or n (no).\n"
   ]
  },
  {
   "cell_type": "markdown",
   "metadata": {},
   "source": [
    "## Call the function\n"
   ]
  },
  {
   "cell_type": "code",
   "execution_count": null,
   "metadata": {},
   "outputs": [],
   "source": [
    "split_agents_and_brain_tickets(\n",
    "    \"acc_issues_GR&CY.csv\", \"GR & CY & CZ & ON & NG Virtual Assistant\"\n",
    ")"
   ]
  }
 ],
 "metadata": {
  "kernelspec": {
   "display_name": "Python 3 (ipykernel)",
   "language": "python",
   "name": "python3"
  },
  "language_info": {
   "codemirror_mode": {
    "name": "ipython",
    "version": 3
   },
   "file_extension": ".py",
   "mimetype": "text/x-python",
   "name": "python",
   "nbconvert_exporter": "python",
   "pygments_lexer": "ipython3",
   "version": "3.10.12"
  }
 },
 "nbformat": 4,
 "nbformat_minor": 4
}
